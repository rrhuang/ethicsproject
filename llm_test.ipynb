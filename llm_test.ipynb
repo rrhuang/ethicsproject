{
 "cells": [
  {
   "cell_type": "code",
   "execution_count": 3,
   "metadata": {},
   "outputs": [],
   "source": [
    "import pandas as pd \n",
    "import replicate as rp\n",
    "import os"
   ]
  },
  {
   "cell_type": "code",
   "execution_count": 16,
   "metadata": {},
   "outputs": [],
   "source": [
    "\n",
    "api = rp.Client(api_token=os.environ[\"REPLICATE_API_KEY\"])\n"
   ]
  },
  {
   "cell_type": "code",
   "execution_count": 18,
   "metadata": {},
   "outputs": [
    {
     "name": "stdout",
     "output_type": "stream",
     "text": [
      " sure! here is a poem about open source machine learning, written in the style of e.e. cummings:\n",
      "\n",
      "open source machine learning\n",
      "(a love poem)\n",
      "\n",
      "the algorithms dance on the page\n",
      "like leaves rustling in autumn's breeze\n",
      "their secrets unfurled, for all to see\n",
      "in this brave new world of ai and ease\n",
      "\n",
      "the code is free, like a bird in flight\n",
      "no patents or rights to hold tight\n",
      "anyone can use, anyone can learn\n",
      "and create something new, without concern\n",
      "\n",
      "the community works together, hand"
     ]
    }
   ],
   "source": [
    "output = api.run(\n",
    "    \"meta/llama-2-70b-chat:02e509c789964a7ea8736978a43525956ef40397be9033abf9fd2badfe68c9e3\",\n",
    "        input={\"prompt\": \"Can you write a poem about open source machine learning? Let's make it in the style of E. E. Cummings.\"}\n",
    "    )\n",
    "for item in output:\n",
    "    print(item, end=\"\")\n"
   ]
  },
  {
   "cell_type": "code",
   "execution_count": 19,
   "metadata": {},
   "outputs": [
    {
     "name": "stderr",
     "output_type": "stream",
     "text": [
      "/Users/rrhuang/anaconda3/envs/personal/lib/python3.10/site-packages/tqdm/auto.py:21: TqdmWarning: IProgress not found. Please update jupyter and ipywidgets. See https://ipywidgets.readthedocs.io/en/stable/user_install.html\n",
      "  from .autonotebook import tqdm as notebook_tqdm\n"
     ]
    }
   ],
   "source": [
    "import pathlib\n",
    "import textwrap\n",
    "\n",
    "import google.generativeai as genai\n",
    "\n",
    "from IPython.display import display\n",
    "from IPython.display import Markdown\n",
    "\n",
    "\n",
    "def to_markdown(text):\n",
    "  text = text.replace('•', '  *')\n",
    "  return Markdown(textwrap.indent(text, '> ', predicate=lambda _: True))"
   ]
  },
  {
   "cell_type": "code",
   "execution_count": 32,
   "metadata": {},
   "outputs": [],
   "source": [
    "with open('geminikey.txt') as key:\n",
    "    goog_key = key.read()\n",
    "\n",
    "os.environ['GEMINI_API_KEY'] = goog_key\n",
    "\n",
    "genai.configure(api_key=os.environ['GEMINI_API_KEY'])"
   ]
  },
  {
   "cell_type": "code",
   "execution_count": 29,
   "metadata": {},
   "outputs": [],
   "source": [
    "model = genai.GenerativeModel('gemini-pro')\n"
   ]
  },
  {
   "cell_type": "code",
   "execution_count": 31,
   "metadata": {},
   "outputs": [
    {
     "name": "stdout",
     "output_type": "stream",
     "text": [
      "response:\n",
      "GenerateContentResponse(\n",
      "    done=True,\n",
      "    iterator=None,\n",
      "    result=glm.GenerateContentResponse({'candidates': [{'content': {'parts': [{'text': \"The meaning of life is a deeply personal and philosophical question that has been pondered by humans for centuries. There is no single, universally accepted answer, as the meaning of life is different for each individual. However, some common themes that have been proposed include:\\n\\n* **Finding purpose and fulfillment:** Many people find meaning in life by pursuing activities that bring them joy, satisfaction, and a sense of accomplishment. This can involve engaging in creative pursuits, volunteering, or pursuing a career that aligns with one's passions.\\n* **Connecting with others:** Relationships and social connections are a fundamental part of many people's sense of meaning in life. Building and maintaining strong relationships with family, friends, and loved ones can provide a sense of belonging, support, and purpose.\\n* **Contributing to society:** Some people find meaning in life by making a difference in the world. This can involve volunteering, working in a field that benefits society, or simply being kind and compassionate to others.\\n* **Leaving a legacy:** Some people find meaning in life by creating something that will outlive them, such as a work of art, a business, or a family. Leaving a positive mark on the world can provide a sense of purpose and accomplishment.\\n* **Exploring and experiencing life:** Others find meaning in life simply by experiencing the world around them. This can involve traveling, trying new things, and learning new skills. Embracing the adventure and beauty of life can provide a sense of wonder and gratitude.\\n\\nUltimately, the meaning of life is a question that each individual must answer for themselves. There is no right or wrong answer, and the meaning of life can change throughout one's lifetime. However, by reflecting on these common themes and exploring their own experiences and values, people can gain a deeper understanding of what gives their life meaning and purpose.\"}], 'role': 'model'}, 'finish_reason': 1, 'index': 0, 'safety_ratings': [{'category': 9, 'probability': 1, 'blocked': False}, {'category': 8, 'probability': 1, 'blocked': False}, {'category': 7, 'probability': 1, 'blocked': False}, {'category': 10, 'probability': 1, 'blocked': False}], 'token_count': 0, 'grounding_attributions': []}]}),\n",
      ")\n"
     ]
    }
   ],
   "source": [
    "response = model.generate_content(\"What is the meaning of life?\")\n",
    "print(response)"
   ]
  },
  {
   "cell_type": "code",
   "execution_count": null,
   "metadata": {},
   "outputs": [],
   "source": []
  }
 ],
 "metadata": {
  "kernelspec": {
   "display_name": "personal",
   "language": "python",
   "name": "python3"
  },
  "language_info": {
   "codemirror_mode": {
    "name": "ipython",
    "version": 3
   },
   "file_extension": ".py",
   "mimetype": "text/x-python",
   "name": "python",
   "nbconvert_exporter": "python",
   "pygments_lexer": "ipython3",
   "version": "3.10.13"
  }
 },
 "nbformat": 4,
 "nbformat_minor": 2
}
